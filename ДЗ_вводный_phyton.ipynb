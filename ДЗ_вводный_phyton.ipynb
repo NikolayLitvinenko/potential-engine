{
  "nbformat": 4,
  "nbformat_minor": 0,
  "metadata": {
    "colab": {
      "provenance": [],
      "authorship_tag": "ABX9TyPEq7tAJgsV3pFxXbYqlP88",
      "include_colab_link": true
    },
    "kernelspec": {
      "name": "python3",
      "display_name": "Python 3"
    },
    "language_info": {
      "name": "python"
    }
  },
  "cells": [
    {
      "cell_type": "markdown",
      "metadata": {
        "id": "view-in-github",
        "colab_type": "text"
      },
      "source": [
        "<a href=\"https://colab.research.google.com/github/NikolayLitvinenko/potential-engine/blob/main/%D0%94%D0%97_%D0%B2%D0%B2%D0%BE%D0%B4%D0%BD%D1%8B%D0%B9_phyton.ipynb\" target=\"_parent\"><img src=\"https://colab.research.google.com/assets/colab-badge.svg\" alt=\"Open In Colab\"/></a>"
      ]
    },
    {
      "cell_type": "code",
      "execution_count": 1,
      "metadata": {
        "colab": {
          "base_uri": "https://localhost:8080/"
        },
        "id": "C9EZBO1Y9kd-",
        "outputId": "2d8ee1ed-78e1-4074-c7d1-33bb4125c742"
      },
      "outputs": [
        {
          "output_type": "stream",
          "name": "stdout",
          "text": [
            "Фраза 1 длиннее фразы 2\n"
          ]
        }
      ],
      "source": [
        "#Задание 1\n",
        "phrase_1 = len('Насколько проще было бы писать программы, если бы не заказчики')\n",
        "phrase_2 = len('640Кб должно хватить для любых задач. Билл Гейтс (по легенде)')\n",
        "if phrase_1 > phrase_2:\n",
        "  print('Фраза 1 длиннее фразы 2')\n",
        "elif phrase_1 < phrase_2:\n",
        "  print('Фраза 2 длиннее фразы 1')\n",
        "else:\n",
        "  print('Фразы равной длины')"
      ]
    },
    {
      "cell_type": "code",
      "source": [
        "\n",
        "#Задание_2\n",
        "if(int(input())%4 == 0):\n",
        "  print('Високосный год')\n",
        "else:\n",
        "  print('Обычный год')"
      ],
      "metadata": {
        "id": "GLkIK6n6FXc_",
        "colab": {
          "base_uri": "https://localhost:8080/"
        },
        "outputId": "09223afd-8c61-4cc7-e969-33f66e636bf0"
      },
      "execution_count": 2,
      "outputs": [
        {
          "output_type": "stream",
          "name": "stdout",
          "text": [
            "2020\n",
            "Високосный год\n"
          ]
        }
      ]
    },
    {
      "cell_type": "code",
      "source": [
        "#Задание_3\n",
        "\n",
        "a = int(input('Введите день:'  ))\n",
        "b = str(input('Введите месяц:' ))\n",
        "if (a >= 21 and b == 'Март') or (a <= 20 and b == 'Апрель'):\n",
        "  print('Овен')\n",
        "elif (a>= 21 and b == 'Апрель') or (a <= 20 and b == 'Май'):\n",
        "  print('Телец')\n",
        "elif (a>= 21 and b == 'Май') or (a <= 21 and b == 'Июнь'):\n",
        "  print('Близнецы')\n",
        "elif (a>= 22 and b == 'Июнь') or (a <= 22 and b == 'Июль'):\n",
        "  print('Рак')\n",
        "elif (a>= 23 and b == 'Июль') or (a <= 23 and b == 'Август'):\n",
        "  print('Лев')\n",
        "elif (a>= 24 and b == 'Август') or (a <= 23 and b == 'Сентябрь'):\n",
        "  print('Дева')\n",
        "elif (a>= 24 and b == 'Сентябрь') or (a <= 23 and b == 'Октябрь'):\n",
        "  print('Весы')\n",
        "elif (a>= 24 and b == 'Октябрь') or (a <= 22 and b == 'Ноябрь'):\n",
        "  print('Скорпион')\n",
        "elif (a>= 23 and b == 'Ноябрь') or (a <= 21 and b == 'Декабрь'):\n",
        "  print('Стрелец')\n",
        "elif (a>= 22 and b == 'Декабрь') or (a <= 20 and b == 'Январь'):\n",
        "  print('Козерог')\n",
        "elif (a>= 21 and b == 'Январь') or (a <= 20 and b == 'Февраль'):\n",
        "  print('Водолей')\n",
        "elif (a>= 21 and b == 'Февраль') or (a <= 20 and b == 'Март'):\n",
        "  print('Рыба')\n"
      ],
      "metadata": {
        "id": "YqRwrzYnH2rz",
        "outputId": "8475cdba-9d62-4ff7-e60e-8daf94753ef8",
        "colab": {
          "base_uri": "https://localhost:8080/"
        }
      },
      "execution_count": null,
      "outputs": [
        {
          "output_type": "stream",
          "name": "stdout",
          "text": [
            "Введите день:8\n",
            "Введите месяц:Апрель\n",
            "Овен\n"
          ]
        }
      ]
    },
    {
      "cell_type": "code",
      "source": [
        "w = int(input('Ширина:'))\n",
        "l = int(input('Длина:'))\n",
        "h = int(input('Высота:'))\n",
        "if w <=15 and l<=15 and h<=15:\n",
        "  print('Коробка №1')\n",
        "elif w >200 or l > 200 or h > 200:\n",
        "  print('Упаковка для лыж')\n",
        "elif (15<w<50) or (15<l<50) or (15<h<50):\n",
        "  print ('Коробка №2')\n",
        "else:\n",
        "  print('Коробка №3')"
      ],
      "metadata": {
        "colab": {
          "base_uri": "https://localhost:8080/"
        },
        "id": "UFyUpIA-UW4b",
        "outputId": "c163bddb-6fe7-4e85-a650-b5adf48be125"
      },
      "execution_count": null,
      "outputs": [
        {
          "output_type": "stream",
          "name": "stdout",
          "text": [
            "Ширина:90\n",
            "Длина:90\n",
            "Высота:90\n",
            "Коробка №3\n"
          ]
        }
      ]
    }
  ]
}